{
 "cells": [
  {
   "cell_type": "code",
   "execution_count": 10,
   "metadata": {},
   "outputs": [],
   "source": [
    "import numpy as np\n",
    "import scipy as sp\n",
    "import torch\n",
    "import matplotlib.pyplot as plt"
   ]
  },
  {
   "cell_type": "code",
   "execution_count": 11,
   "metadata": {},
   "outputs": [],
   "source": [
    "dim=10\n",
    "c = torch.randn((dim, 1), requires_grad=False)\n",
    "d = torch.randn((dim, 1), requires_grad=False)\n",
    "A = torch.randn((dim, dim), requires_grad=False)\n",
    "\n",
    "eigenvalues = torch.empty(dim).uniform_(0.1, 10)\n",
    "Q, _ = torch.qr(torch.randn(dim, dim))\n",
    "D = torch.diag(eigenvalues)\n",
    "H = Q @ D @ Q.T\n",
    "\n",
    "torch.save(A, 'data/A.pt')\n",
    "torch.save(H, 'data/H.pt')\n",
    "torch.save(c, 'data/c.pt')\n",
    "torch.save(d, 'data/d.pt')"
   ]
  },
  {
   "cell_type": "code",
   "execution_count": null,
   "metadata": {},
   "outputs": [],
   "source": []
  }
 ],
 "metadata": {
  "kernelspec": {
   "display_name": "Python 3",
   "language": "python",
   "name": "python3"
  },
  "language_info": {
   "codemirror_mode": {
    "name": "ipython",
    "version": 3
   },
   "file_extension": ".py",
   "mimetype": "text/x-python",
   "name": "python",
   "nbconvert_exporter": "python",
   "pygments_lexer": "ipython3",
   "version": "3.10.12"
  }
 },
 "nbformat": 4,
 "nbformat_minor": 2
}
