{
 "cells": [
  {
   "cell_type": "code",
   "execution_count": 2,
   "metadata": {},
   "outputs": [],
   "source": [
    "import numpy as np\n",
    "import scipy as sp\n",
    "import torch\n",
    "import matplotlib.pyplot as plt\n",
    "\n",
    "import torch\n",
    "from torchvision import datasets, transforms\n",
    "import random"
   ]
  },
  {
   "cell_type": "markdown",
   "metadata": {},
   "source": [
    "Toy Example"
   ]
  },
  {
   "cell_type": "code",
   "execution_count": 7,
   "metadata": {},
   "outputs": [],
   "source": [
    "np.random.seed(4321)\n",
    "dim=20\n",
    "c = torch.randn((dim, 1), requires_grad=False)\n",
    "d = torch.randn((dim, 1), requires_grad=False)\n",
    "A = torch.randn((dim, dim), requires_grad=False)\n",
    "\n",
    "eigenvalues = torch.empty(dim).uniform_(0.1, 1)\n",
    "Q, _ = torch.qr(torch.randn(dim, dim))\n",
    "D = torch.diag(eigenvalues)\n",
    "H = Q @ D @ Q.T\n",
    "\n",
    "torch.save(A, 'data/A.pt')\n",
    "torch.save(H, 'data/H.pt')\n",
    "torch.save(c, 'data/c.pt')\n",
    "torch.save(d, 'data/d.pt')"
   ]
  },
  {
   "cell_type": "markdown",
   "metadata": {},
   "source": [
    "Data Hyper-Cleaning"
   ]
  },
  {
   "cell_type": "code",
   "execution_count": 4,
   "metadata": {},
   "outputs": [],
   "source": [
    "# np.random.seed(4321)\n",
    "\n",
    "# # Define dimensions and parameters\n",
    "# n_features = 20  # Number of features\n",
    "# n_train = 1000  # Number of training samples\n",
    "# n_val = 100   # Number of validation samples\n",
    "# n_test = 200  # Number of test samples\n",
    "# p = 0.1        # Corruption probability\n",
    "\n",
    "# # Generate random feature matrices\n",
    "# A_tr = np.random.randn(n_train, n_features)  # Training features\n",
    "# A_val = np.random.randn(n_val, n_features)   # Validation features\n",
    "# A_test = np.random.randn(n_test, n_features) # Test features\n",
    "\n",
    "# # Generate original true labels\n",
    "# B_tr_true = np.random.randint(0, 2, n_train) * 2 - 1  # Binary labels {-1, 1}\n",
    "# B_val_true = np.random.randint(0, 2, n_val) * 2 - 1   # Binary labels {-1, 1}\n",
    "# B_test_true = np.random.randint(0, 2, n_test) * 2 - 1 # Binary labels {-1, 1}\n",
    "\n",
    "# # Corrupt the training labels\n",
    "# corruption_mask = np.random.rand(n_train) < p\n",
    "# B_tr = B_tr_true.copy()\n",
    "# B_tr[corruption_mask] = -B_tr_true[corruption_mask]  # Flip labels\n",
    "\n",
    "# # # Corrupt the validation labels\n",
    "# # corruption_mask_val = np.random.rand(n_val) < p\n",
    "# B_val = B_val_true.copy()\n",
    "# # B_val[corruption_mask_val] = -B_val_true[corruption_mask_val]  # Flip labels\n",
    "\n",
    "# # # Corrupt the test labels\n",
    "# # corruption_mask_test = np.random.rand(n_test) < p\n",
    "# B_test = B_test_true.copy()\n",
    "# # B_test[corruption_mask_test] = -B_test_true[corruption_mask_test]  # Flip labels\n",
    "\n",
    "\n",
    "# torch.save(torch.tensor(A_tr), 'data/A_tr.pt'); \n",
    "# torch.save(torch.tensor(A_val), 'data/A_val.pt');\n",
    "# torch.save(torch.tensor(A_test), 'data/A_test.pt');\n",
    "# torch.save(torch.tensor(B_tr), 'data/B_tr.pt');\n",
    "# torch.save(torch.tensor(B_val), 'data/B_val.pt');\n",
    "# torch.save(torch.tensor(B_test), 'data/B_test.pt');"
   ]
  },
  {
   "cell_type": "markdown",
   "metadata": {},
   "source": [
    "MNIST"
   ]
  },
  {
   "cell_type": "code",
   "execution_count": 5,
   "metadata": {},
   "outputs": [
    {
     "name": "stdout",
     "output_type": "stream",
     "text": [
      "Selected classes: 4 and 3\n",
      "Train: torch.Size([1394, 784]), torch.Size([1394])\n",
      "Validation: torch.Size([298, 784]), torch.Size([298])\n",
      "Test: torch.Size([300, 784]), torch.Size([300])\n",
      "Number of corrupted labels: 275\n"
     ]
    }
   ],
   "source": [
    "import torch\n",
    "import numpy as np\n",
    "from torchvision import datasets, transforms\n",
    "import random\n",
    "\n",
    "p = 0.2  # corruption probability\n",
    "\n",
    "\n",
    "# Load MNIST dataset\n",
    "transform = transforms.Compose([transforms.ToTensor()])\n",
    "mnist_data = datasets.MNIST(root='./data', train=False, download=True, transform=transform)\n",
    "\n",
    "# Randomly select two different classes\n",
    "classes = list(range(10))\n",
    "class1 = random.choice(classes)\n",
    "class2 = random.choice([c for c in classes if c != class1])\n",
    "\n",
    "# Function to filter data for the selected classes\n",
    "def filter_mnist_by_class(data, class1, class2):\n",
    "    indices = (data.targets == class1) | (data.targets == class2)\n",
    "    filtered_data = data.data[indices]\n",
    "    filtered_targets = data.targets[indices]\n",
    "    # Convert labels to binary {-1, 1}\n",
    "    filtered_targets = torch.where(filtered_targets == class1, torch.tensor(-1), torch.tensor(1))\n",
    "    return filtered_data, filtered_targets\n",
    "\n",
    "# Filter the data\n",
    "data, targets = filter_mnist_by_class(mnist_data, class1, class2)\n",
    "\n",
    "# Flatten the images and split into train, validation, and test sets\n",
    "n_samples = data.shape[0]\n",
    "n_train = int(0.7 * n_samples)\n",
    "n_val = int(0.15 * n_samples)\n",
    "n_test = n_samples - n_train - n_val\n",
    "\n",
    "# Shuffle the data\n",
    "indices = torch.randperm(n_samples)\n",
    "data = data[indices].float().view(n_samples, -1) / 255.0  # Normalize and flatten\n",
    "targets = targets[indices]\n",
    "\n",
    "# Split the data\n",
    "A_tr, B_tr_true = data[:n_train], targets[:n_train]\n",
    "A_val, B_val = data[n_train:n_train+n_val], targets[n_train:n_train+n_val]\n",
    "A_test, B_test = data[n_train+n_val:], targets[n_train+n_val:]\n",
    "\n",
    "# Randomly corrupt some of the training samples\n",
    "corruption_mask = np.random.rand(n_train) < p\n",
    "B_tr = B_tr_true.clone()  # Clone to avoid modifying the original labels\n",
    "B_tr[corruption_mask] = -B_tr_true[corruption_mask]  # Flip the labels where corruption_mask is True\n",
    "\n",
    "# Output shapes and corruption details\n",
    "print(f'Selected classes: {class1} and {class2}')\n",
    "print(f'Train: {A_tr.shape}, {B_tr.shape}')\n",
    "print(f'Validation: {A_val.shape}, {B_val.shape}')\n",
    "print(f'Test: {A_test.shape}, {B_test.shape}')\n",
    "print(f'Number of corrupted labels: {corruption_mask.sum()}')\n",
    "\n",
    "\n",
    "torch.save(A_tr, 'data/A_tr.pt'); \n",
    "torch.save(A_val, 'data/A_val.pt');\n",
    "torch.save(A_test, 'data/A_test.pt');\n",
    "torch.save(B_tr, 'data/B_tr.pt');\n",
    "torch.save(B_val, 'data/B_val.pt');\n",
    "torch.save(B_test, 'data/B_test.pt');"
   ]
  },
  {
   "cell_type": "code",
   "execution_count": null,
   "metadata": {},
   "outputs": [],
   "source": []
  }
 ],
 "metadata": {
  "kernelspec": {
   "display_name": "Python 3",
   "language": "python",
   "name": "python3"
  },
  "language_info": {
   "codemirror_mode": {
    "name": "ipython",
    "version": 3
   },
   "file_extension": ".py",
   "mimetype": "text/x-python",
   "name": "python",
   "nbconvert_exporter": "python",
   "pygments_lexer": "ipython3",
   "version": "3.10.12"
  }
 },
 "nbformat": 4,
 "nbformat_minor": 2
}
