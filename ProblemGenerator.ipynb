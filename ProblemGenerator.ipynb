{
 "cells": [
  {
   "cell_type": "code",
   "execution_count": 3,
   "metadata": {},
   "outputs": [],
   "source": [
    "import numpy as np\n",
    "import scipy as sp\n",
    "import torch\n",
    "import matplotlib.pyplot as plt"
   ]
  },
  {
   "cell_type": "code",
   "execution_count": 4,
   "metadata": {},
   "outputs": [],
   "source": [
    "c = torch.randn((100, 1), requires_grad=False)\n",
    "d = torch.randn((100, 1), requires_grad=False)\n",
    "A = torch.randn((100, 100), requires_grad=False)\n",
    "H = torch.randn((100, 100), requires_grad=False) \n",
    "\n",
    "torch.save(A, 'data/A.pt')\n",
    "torch.save(H, 'data/H.pt')\n",
    "torch.save(c, 'data/c.pt')\n",
    "torch.save(d, 'data/d.pt')"
   ]
  },
  {
   "cell_type": "code",
   "execution_count": null,
   "metadata": {},
   "outputs": [],
   "source": []
  }
 ],
 "metadata": {
  "kernelspec": {
   "display_name": "Python 3",
   "language": "python",
   "name": "python3"
  },
  "language_info": {
   "codemirror_mode": {
    "name": "ipython",
    "version": 3
   },
   "file_extension": ".py",
   "mimetype": "text/x-python",
   "name": "python",
   "nbconvert_exporter": "python",
   "pygments_lexer": "ipython3",
   "version": "3.10.12"
  }
 },
 "nbformat": 4,
 "nbformat_minor": 2
}
