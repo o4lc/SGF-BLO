{
 "cells": [
  {
   "cell_type": "code",
   "execution_count": 5,
   "metadata": {},
   "outputs": [],
   "source": [
    "import numpy as np\n",
    "import scipy as sp\n",
    "import torch\n",
    "import matplotlib.pyplot as plt"
   ]
  },
  {
   "cell_type": "markdown",
   "metadata": {},
   "source": [
    "Toy Example"
   ]
  },
  {
   "cell_type": "code",
   "execution_count": 6,
   "metadata": {},
   "outputs": [],
   "source": [
    "np.random.seed(4321)\n",
    "dim=10\n",
    "c = torch.randn((dim, 1), requires_grad=False)\n",
    "d = torch.randn((dim, 1), requires_grad=False)\n",
    "A = torch.randn((dim, dim), requires_grad=False)\n",
    "\n",
    "eigenvalues = torch.empty(dim).uniform_(0.1, 10)\n",
    "Q, _ = torch.qr(torch.randn(dim, dim))\n",
    "D = torch.diag(eigenvalues)\n",
    "H = Q @ D @ Q.T\n",
    "\n",
    "torch.save(A, 'data/A.pt')\n",
    "torch.save(H, 'data/H.pt')\n",
    "torch.save(c, 'data/c.pt')\n",
    "torch.save(d, 'data/d.pt')"
   ]
  },
  {
   "cell_type": "markdown",
   "metadata": {},
   "source": [
    "Data Hyper-Cleaning"
   ]
  },
  {
   "cell_type": "code",
   "execution_count": 9,
   "metadata": {},
   "outputs": [],
   "source": [
    "np.random.seed(4321)\n",
    "\n",
    "# Define dimensions and parameters\n",
    "n_features = 20  # Number of features\n",
    "n_train = 50  # Number of training samples\n",
    "n_val = 15   # Number of validation samples\n",
    "n_test = 10  # Number of test samples\n",
    "p = 0.2         # Corruption probability\n",
    "\n",
    "# Generate random feature matrices\n",
    "A_tr = np.random.randn(n_train, n_features)  # Training features\n",
    "A_val = np.random.randn(n_val, n_features)   # Validation features\n",
    "A_test = np.random.randn(n_test, n_features) # Test features\n",
    "\n",
    "# Generate original true labels\n",
    "B_tr_true = np.random.randint(0, 2, n_train) * 2 - 1  # Binary labels {-1, 1}\n",
    "B_val_true = np.random.randint(0, 2, n_val) * 2 - 1   # Binary labels {-1, 1}\n",
    "B_test_true = np.random.randint(0, 2, n_test) * 2 - 1 # Binary labels {-1, 1}\n",
    "\n",
    "# Corrupt the training labels\n",
    "corruption_mask = np.random.rand(n_train) < p\n",
    "B_tr = B_tr_true.copy()\n",
    "B_tr[corruption_mask] = -B_tr_true[corruption_mask]  # Flip labels\n",
    "\n",
    "# Corrupt the validation labels\n",
    "corruption_mask_val = np.random.rand(n_val) < p\n",
    "B_val = B_val_true.copy()\n",
    "B_val[corruption_mask_val] = -B_val_true[corruption_mask_val]  # Flip labels\n",
    "\n",
    "# Corrupt the test labels\n",
    "corruption_mask_test = np.random.rand(n_test) < p\n",
    "B_test = B_test_true.copy()\n",
    "B_test[corruption_mask_test] = -B_test_true[corruption_mask_test]  # Flip labels\n",
    "\n",
    "\n",
    "torch.save(torch.tensor(A_tr), 'data/A_tr.pt'); \n",
    "torch.save(torch.tensor(A_val), 'data/A_val.pt');\n",
    "torch.save(torch.tensor(A_test), 'data/A_test.pt');\n",
    "torch.save(torch.tensor(B_tr), 'data/B_tr.pt');\n",
    "torch.save(torch.tensor(B_val), 'data/B_val.pt');\n",
    "torch.save(torch.tensor(B_test), 'data/B_test.pt');"
   ]
  },
  {
   "cell_type": "code",
   "execution_count": null,
   "metadata": {},
   "outputs": [],
   "source": []
  }
 ],
 "metadata": {
  "kernelspec": {
   "display_name": "Python 3",
   "language": "python",
   "name": "python3"
  },
  "language_info": {
   "codemirror_mode": {
    "name": "ipython",
    "version": 3
   },
   "file_extension": ".py",
   "mimetype": "text/x-python",
   "name": "python",
   "nbconvert_exporter": "python",
   "pygments_lexer": "ipython3",
   "version": "3.10.12"
  }
 },
 "nbformat": 4,
 "nbformat_minor": 2
}
