{
 "cells": [
  {
   "cell_type": "code",
   "execution_count": 25,
   "metadata": {},
   "outputs": [],
   "source": [
    "import numpy as np\n",
    "import scipy as sp\n",
    "import torch\n",
    "import matplotlib.pyplot as plt\n",
    "\n",
    "import torch\n",
    "from torchvision import datasets, transforms\n",
    "import random"
   ]
  },
  {
   "cell_type": "markdown",
   "metadata": {},
   "source": [
    "Toy Example"
   ]
  },
  {
   "cell_type": "code",
   "execution_count": 26,
   "metadata": {},
   "outputs": [],
   "source": [
    "np.random.seed(4321)\n",
    "dim=20\n",
    "c = torch.randn((dim, 1), requires_grad=False)\n",
    "d = torch.randn((dim, 1), requires_grad=False)\n",
    "A = torch.randn((dim, dim), requires_grad=False)\n",
    "\n",
    "eigenvalues = torch.empty(dim).uniform_(0.1, 1)\n",
    "Q, _ = torch.qr(torch.randn(dim, dim))\n",
    "D = torch.diag(eigenvalues)\n",
    "H = Q @ D @ Q.T\n",
    "\n",
    "torch.save(A, 'data/A.pt')\n",
    "torch.save(H, 'data/H.pt')\n",
    "torch.save(c, 'data/c.pt')\n",
    "torch.save(d, 'data/d.pt')"
   ]
  },
  {
   "cell_type": "markdown",
   "metadata": {},
   "source": [
    "Data Hyper-Cleaning"
   ]
  },
  {
   "cell_type": "markdown",
   "metadata": {},
   "source": [
    "Binary MNIST"
   ]
  },
  {
   "cell_type": "code",
   "execution_count": 27,
   "metadata": {},
   "outputs": [
    {
     "name": "stdout",
     "output_type": "stream",
     "text": [
      "Selected classes: 2 and 5\n",
      "Train: torch.Size([962, 784]), torch.Size([962, 2])\n",
      "Validation: torch.Size([481, 784]), torch.Size([481, 2])\n",
      "Test: torch.Size([481, 784]), torch.Size([481, 2])\n",
      "Number of corrupted labels: 495\n"
     ]
    }
   ],
   "source": [
    "import torch\n",
    "import numpy as np\n",
    "from torchvision import datasets, transforms\n",
    "import random\n",
    "\n",
    "p = 0.5  # corruption probability\n",
    "\n",
    "\n",
    "# Load MNIST dataset\n",
    "transform = transforms.Compose([transforms.ToTensor()])\n",
    "mnist_data = datasets.MNIST(root='./data', train=False, download=True, transform=transform)\n",
    "\n",
    "# Randomly select two different classes\n",
    "classes = list(range(10))\n",
    "class1 = random.choice(classes)\n",
    "class2 = random.choice([c for c in classes if c != class1])\n",
    "\n",
    "# Function to filter data for the selected classes\n",
    "def filter_mnist_by_class(data, class1, class2):\n",
    "    indices = (data.targets == class1) | (data.targets == class2)\n",
    "    filtered_data = data.data[indices]\n",
    "    filtered_targets = data.targets[indices]\n",
    "    # Convert labels to binary {-1, 1}\n",
    "    filtered_targets = torch.where(filtered_targets == class1, torch.tensor(0), torch.tensor(1))\n",
    "    return filtered_data, filtered_targets\n",
    "\n",
    "# Filter the data\n",
    "data, targets = filter_mnist_by_class(mnist_data, class1, class2)\n",
    "\n",
    "# Flatten the images and split into train, validation, and test sets\n",
    "n_samples = data.shape[0]\n",
    "n_train = int(0.5 * n_samples)\n",
    "n_val = int(0.25 * n_samples)\n",
    "n_test = n_samples - n_train - n_val\n",
    "\n",
    "# Shuffle the data\n",
    "indices = torch.randperm(n_samples)\n",
    "data = data[indices].float().view(n_samples, -1) / 255.0  # Normalize and flatten\n",
    "targets = targets[indices]\n",
    "\n",
    "# Split the data\n",
    "A_tr, B_tr_true = data[:n_train], targets[:n_train]\n",
    "A_val, B_val = data[n_train:n_train+n_val], targets[n_train:n_train+n_val]\n",
    "A_test, B_test = data[n_train+n_val:], targets[n_train+n_val:]\n",
    "\n",
    "# Randomly corrupt some of the training samples\n",
    "corruption_mask = np.random.rand(n_train) < p\n",
    "B_tr = B_tr_true.clone()  # Clone to avoid modifying the original labels\n",
    "B_tr[corruption_mask] = 1 -  B_tr_true[corruption_mask]  # Flip the labels where corruption_mask is True\n",
    "\n",
    "B_tr = torch.nn.functional.one_hot(B_tr, num_classes=2)\n",
    "B_val = torch.nn.functional.one_hot(B_val, num_classes=2)\n",
    "B_test = torch.nn.functional.one_hot(B_test, num_classes=2)\n",
    "\n",
    "# Output shapes and corruption details\n",
    "print(f'Selected classes: {class1} and {class2}')\n",
    "print(f'Train: {A_tr.shape}, {B_tr.shape}')\n",
    "print(f'Validation: {A_val.shape}, {B_val.shape}')\n",
    "print(f'Test: {A_test.shape}, {B_test.shape}')\n",
    "print(f'Number of corrupted labels: {corruption_mask.sum()}')\n",
    "\n",
    "\n",
    "torch.save(A_tr, 'data/A_tr.pt');\n",
    "torch.save(A_val, 'data/A_val.pt');\n",
    "torch.save(A_test, 'data/A_test.pt');\n",
    "torch.save(B_tr, 'data/B_tr.pt');\n",
    "torch.save(B_val, 'data/B_val.pt');\n",
    "torch.save(B_test, 'data/B_test.pt');"
   ]
  },
  {
   "cell_type": "code",
   "execution_count": 28,
   "metadata": {},
   "outputs": [
    {
     "name": "stdout",
     "output_type": "stream",
     "text": [
      "Class-to-binary mapping: {9: 0, 1: 0, 8: 0, 3: 0, 2: 0, 6: 1, 7: 1, 4: 1, 0: 1, 5: 1}\n",
      "Train: torch.Size([5000, 784]), torch.Size([5000, 2])\n",
      "Validation: torch.Size([2500, 784]), torch.Size([2500, 2])\n",
      "Test: torch.Size([2500, 784]), torch.Size([2500, 2])\n",
      "Number of corrupted labels: 2550\n"
     ]
    },
    {
     "name": "stderr",
     "output_type": "stream",
     "text": [
      "/tmp/ipykernel_171886/2660552149.py:58: UserWarning: To copy construct from a tensor, it is recommended to use sourceTensor.clone().detach() or sourceTensor.clone().detach().requires_grad_(True), rather than torch.tensor(sourceTensor).\n",
      "  torch.save(torch.tensor(A_tr), 'data/A_trp' + str(p) + '.pt');\n",
      "/tmp/ipykernel_171886/2660552149.py:59: UserWarning: To copy construct from a tensor, it is recommended to use sourceTensor.clone().detach() or sourceTensor.clone().detach().requires_grad_(True), rather than torch.tensor(sourceTensor).\n",
      "  torch.save(torch.tensor(A_val), 'data/A_valp' + str(p) + '.pt');\n",
      "/tmp/ipykernel_171886/2660552149.py:60: UserWarning: To copy construct from a tensor, it is recommended to use sourceTensor.clone().detach() or sourceTensor.clone().detach().requires_grad_(True), rather than torch.tensor(sourceTensor).\n",
      "  torch.save(torch.tensor(A_test), 'data/A_testp' + str(p) + '.pt');\n",
      "/tmp/ipykernel_171886/2660552149.py:61: UserWarning: To copy construct from a tensor, it is recommended to use sourceTensor.clone().detach() or sourceTensor.clone().detach().requires_grad_(True), rather than torch.tensor(sourceTensor).\n",
      "  torch.save(torch.tensor(B_tr), 'data/B_trp' + str(p) + '.pt');\n",
      "/tmp/ipykernel_171886/2660552149.py:62: UserWarning: To copy construct from a tensor, it is recommended to use sourceTensor.clone().detach() or sourceTensor.clone().detach().requires_grad_(True), rather than torch.tensor(sourceTensor).\n",
      "  torch.save(torch.tensor(B_val), 'data/B_valp' + str(p) + '.pt');\n",
      "/tmp/ipykernel_171886/2660552149.py:63: UserWarning: To copy construct from a tensor, it is recommended to use sourceTensor.clone().detach() or sourceTensor.clone().detach().requires_grad_(True), rather than torch.tensor(sourceTensor).\n",
      "  torch.save(torch.tensor(B_test), 'data/B_testp' + str(p) + '.pt');\n"
     ]
    }
   ],
   "source": [
    "import torch\n",
    "import numpy as np\n",
    "from torchvision import datasets, transforms\n",
    "import random\n",
    "\n",
    "\n",
    "# Load MNIST dataset\n",
    "transform = transforms.Compose([transforms.ToTensor()])\n",
    "mnist_data = datasets.MNIST(root='./data', train=False, download=True, transform=transform)\n",
    "\n",
    "# Randomly assign 5 classes to label 0 and 5 classes to label 1\n",
    "classes = list(range(10))\n",
    "random.shuffle(classes)\n",
    "class_labels = {cls: 0 if i < 5 else 1 for i, cls in enumerate(classes)}\n",
    "\n",
    "# Function to map MNIST labels to binary labels\n",
    "def map_mnist_to_binary(data, class_labels):\n",
    "    binary_targets = torch.tensor([class_labels[label.item()] for label in data.targets])\n",
    "    return data.data, binary_targets\n",
    "\n",
    "# Map the entire dataset to binary labels\n",
    "data, targets = map_mnist_to_binary(mnist_data, class_labels)\n",
    "\n",
    "# Flatten the images and split into train, validation, and test sets\n",
    "n_samples = data.shape[0]\n",
    "n_train = int(0.5 * n_samples)\n",
    "n_val = int(0.25 * n_samples)\n",
    "n_test = n_samples - n_train - n_val\n",
    "\n",
    "# Shuffle the data\n",
    "indices = torch.randperm(n_samples)\n",
    "data = data[indices].float().view(n_samples, -1) / 255.0  # Normalize and flatten\n",
    "targets = targets[indices]\n",
    "\n",
    "# Split the data\n",
    "A_tr, B_tr_true = data[:n_train], targets[:n_train]\n",
    "A_val, B_val = data[n_train:n_train+n_val], targets[n_train:n_train+n_val]\n",
    "A_test, B_test = data[n_train+n_val:], targets[n_train+n_val:]\n",
    "\n",
    "# Randomly corrupt some of the training samples\n",
    "corruption_mask = np.random.rand(n_train) < p\n",
    "B_tr = B_tr_true.clone()  # Clone to avoid modifying the original labels\n",
    "B_tr[corruption_mask] = 1 - B_tr_true[corruption_mask]  # Flip the labels where corruption_mask is True\n",
    "\n",
    "# One-hot encode the labels\n",
    "B_tr = torch.nn.functional.one_hot(B_tr, num_classes=2)\n",
    "B_val = torch.nn.functional.one_hot(B_val, num_classes=2)\n",
    "B_test = torch.nn.functional.one_hot(B_test, num_classes=2)\n",
    "\n",
    "# Output shapes and corruption details\n",
    "print(f'Class-to-binary mapping: {class_labels}')\n",
    "print(f'Train: {A_tr.shape}, {B_tr.shape}')\n",
    "print(f'Validation: {A_val.shape}, {B_val.shape}')\n",
    "print(f'Test: {A_test.shape}, {B_test.shape}')\n",
    "print(f'Number of corrupted labels: {corruption_mask.sum()}')\n",
    "\n",
    "# Save the data\n",
    "torch.save(torch.tensor(A_tr), 'data/A_trp' + str(p) + '.pt');\n",
    "torch.save(torch.tensor(A_val), 'data/A_valp' + str(p) + '.pt');\n",
    "torch.save(torch.tensor(A_test), 'data/A_testp' + str(p) + '.pt');\n",
    "torch.save(torch.tensor(B_tr), 'data/B_trp' + str(p) + '.pt');\n",
    "torch.save(torch.tensor(B_val), 'data/B_valp' + str(p) + '.pt');\n",
    "torch.save(torch.tensor(B_test), 'data/B_testp' + str(p) + '.pt');\n",
    "\n",
    "# torch.save(A_tr, 'data/A_tr.pt')\n",
    "# torch.save(A_val, 'data/A_val.pt')\n",
    "# torch.save(A_test, 'data/A_test.pt')\n",
    "# torch.save(B_tr, 'data/B_tr.pt')\n",
    "# torch.save(B_val, 'data/B_val.pt')\n",
    "# torch.save(B_test, 'data/B_test.pt')\n"
   ]
  },
  {
   "cell_type": "markdown",
   "metadata": {},
   "source": [
    "Full MNIST"
   ]
  },
  {
   "cell_type": "code",
   "execution_count": 29,
   "metadata": {},
   "outputs": [
    {
     "name": "stdout",
     "output_type": "stream",
     "text": [
      "Train: torch.Size([5000, 784]), torch.Size([5000, 10])\n",
      "Validation: torch.Size([2500, 784]), torch.Size([2500, 10])\n",
      "Test: torch.Size([2500, 784]), torch.Size([2500, 10])\n",
      "Corrupted classes: [7, 6, 3, 2, 5]\n"
     ]
    },
    {
     "name": "stderr",
     "output_type": "stream",
     "text": [
      "/tmp/ipykernel_171886/2720976750.py:63: UserWarning: To copy construct from a tensor, it is recommended to use sourceTensor.clone().detach() or sourceTensor.clone().detach().requires_grad_(True), rather than torch.tensor(sourceTensor).\n",
      "  torch.save(torch.tensor(A_tr), 'data/A_trp' + str(p) + '.pt');\n",
      "/tmp/ipykernel_171886/2720976750.py:64: UserWarning: To copy construct from a tensor, it is recommended to use sourceTensor.clone().detach() or sourceTensor.clone().detach().requires_grad_(True), rather than torch.tensor(sourceTensor).\n",
      "  torch.save(torch.tensor(A_val), 'data/A_valp' + str(p) + '.pt');\n",
      "/tmp/ipykernel_171886/2720976750.py:65: UserWarning: To copy construct from a tensor, it is recommended to use sourceTensor.clone().detach() or sourceTensor.clone().detach().requires_grad_(True), rather than torch.tensor(sourceTensor).\n",
      "  torch.save(torch.tensor(A_test), 'data/A_testp' + str(p) + '.pt');\n",
      "/tmp/ipykernel_171886/2720976750.py:66: UserWarning: To copy construct from a tensor, it is recommended to use sourceTensor.clone().detach() or sourceTensor.clone().detach().requires_grad_(True), rather than torch.tensor(sourceTensor).\n",
      "  torch.save(torch.tensor(B_tr), 'data/B_trp' + str(p) + '.pt');\n",
      "/tmp/ipykernel_171886/2720976750.py:67: UserWarning: To copy construct from a tensor, it is recommended to use sourceTensor.clone().detach() or sourceTensor.clone().detach().requires_grad_(True), rather than torch.tensor(sourceTensor).\n",
      "  torch.save(torch.tensor(B_val), 'data/B_valp' + str(p) + '.pt');\n",
      "/tmp/ipykernel_171886/2720976750.py:68: UserWarning: To copy construct from a tensor, it is recommended to use sourceTensor.clone().detach() or sourceTensor.clone().detach().requires_grad_(True), rather than torch.tensor(sourceTensor).\n",
      "  torch.save(torch.tensor(B_test), 'data/B_testp' + str(p) + '.pt');\n"
     ]
    }
   ],
   "source": [
    "import torch\n",
    "import numpy as np\n",
    "from torchvision import datasets, transforms\n",
    "import random\n",
    "\n",
    "p = 0.5\n",
    "\n",
    "# Load MNIST dataset\n",
    "transform = transforms.Compose([transforms.ToTensor()])\n",
    "mnist_data = datasets.MNIST(root='./data', train=False, download=True, transform=transform)\n",
    "\n",
    "data, targets = mnist_data.data, mnist_data.targets\n",
    "\n",
    "# Flatten the images and split into train, validation, and test sets\n",
    "n_samples = data.shape[0]\n",
    "n_train = int(0.5 * n_samples)\n",
    "n_val = int(0.25 * n_samples)\n",
    "n_test = n_samples - n_train - n_val\n",
    "\n",
    "# Shuffle the data\n",
    "indices = torch.randperm(n_samples)\n",
    "data = data[indices].float().view(n_samples, -1) / 255.0  # Normalize and flatten\n",
    "targets = targets[indices]\n",
    "\n",
    "# Split the data\n",
    "A_tr, B_tr_true = data[:n_train], targets[:n_train]\n",
    "A_val, B_val = data[n_train:n_train+n_val], targets[n_train:n_train+n_val]\n",
    "A_test, B_test = data[n_train+n_val:], targets[n_train+n_val:]\n",
    "\n",
    "# Get unique classes in training data\n",
    "unique_classes = B_tr_true.unique()\n",
    "\n",
    "# Determine the number of classes to corrupt\n",
    "n_corrupt_classes = max(1, int(p * len(unique_classes)))\n",
    "\n",
    "# Randomly select classes to corrupt\n",
    "corrupt_classes = torch.tensor(random.sample(unique_classes.tolist(), n_corrupt_classes))\n",
    "\n",
    "# Clone the training labels\n",
    "B_tr = B_tr_true.clone()\n",
    "\n",
    "for cls in corrupt_classes:\n",
    "    # Find indices of the current class\n",
    "    cls_indices = B_tr_true == cls\n",
    "    # Generate random labels different from the original class label\n",
    "    random_labels = torch.randint(low=1, high=10, size=(1, 1))\n",
    "    new_labels = (cls + random_labels) % 10\n",
    "    \n",
    "    # Assign new labels to all instances of the selected class\n",
    "    B_tr[cls_indices] = new_labels\n",
    "\n",
    "B_tr = torch.nn.functional.one_hot(B_tr, num_classes=10)\n",
    "B_val = torch.nn.functional.one_hot(B_val, num_classes=10)\n",
    "B_test = torch.nn.functional.one_hot(B_test, num_classes=10)\n",
    "\n",
    "# Output shapes and corruption details\n",
    "print(f'Train: {A_tr.shape}, {B_tr.shape}')\n",
    "print(f'Validation: {A_val.shape}, {B_val.shape}')\n",
    "print(f'Test: {A_test.shape}, {B_test.shape}')\n",
    "print(f'Corrupted classes: {corrupt_classes.tolist()}')\n",
    "\n",
    "# Save datasets\n",
    "torch.save(torch.tensor(A_tr), 'data/A_trp' + str(p) + '.pt');\n",
    "torch.save(torch.tensor(A_val), 'data/A_valp' + str(p) + '.pt');\n",
    "torch.save(torch.tensor(A_test), 'data/A_testp' + str(p) + '.pt');\n",
    "torch.save(torch.tensor(B_tr), 'data/B_trp' + str(p) + '.pt');\n",
    "torch.save(torch.tensor(B_val), 'data/B_valp' + str(p) + '.pt');\n",
    "torch.save(torch.tensor(B_test), 'data/B_testp' + str(p) + '.pt');"
   ]
  },
  {
   "cell_type": "markdown",
   "metadata": {},
   "source": [
    "MNIST PCA"
   ]
  },
  {
   "cell_type": "code",
   "execution_count": 30,
   "metadata": {},
   "outputs": [
    {
     "name": "stdout",
     "output_type": "stream",
     "text": [
      "Train: (5000, 82), torch.Size([5000, 10])\n",
      "Validation: (2500, 82), torch.Size([2500, 10])\n",
      "Test: (2500, 82), torch.Size([2500, 10])\n",
      "Number of corrupted labels: 2550\n"
     ]
    }
   ],
   "source": [
    "from sklearn.decomposition import PCA\n",
    "\n",
    "pca = PCA()\n",
    "pca.fit(A_tr)\n",
    "index = np.where(np.cumsum(pca.explained_variance_ratio_) >= 0.90)[0][0]\n",
    "\n",
    "pca = PCA(n_components=index)\n",
    "pca.fit(A_tr)\n",
    "A_tr2 = pca.transform(A_tr)\n",
    "A_val2 = pca.transform(A_val)\n",
    "A_test2 = pca.transform(A_test)\n",
    "\n",
    "# Output shapes and corruption details\n",
    "print(f'Train: {A_tr2.shape}, {B_tr.shape}')\n",
    "print(f'Validation: {A_val2.shape}, {B_val.shape}')\n",
    "print(f'Test: {A_test2.shape}, {B_test.shape}')\n",
    "print(f'Number of corrupted labels: {corruption_mask.sum()}')\n",
    "\n",
    "torch.save(torch.tensor(A_tr2), 'data/A_trp' + str(p) + '.pt');\n",
    "torch.save(torch.tensor(A_val2), 'data/A_valp' + str(p) + '.pt');\n",
    "torch.save(torch.tensor(A_test2), 'data/A_testp' + str(p) + '.pt');\n",
    "torch.save(B_tr, 'data/B_trp' + str(p) + '.pt');\n",
    "torch.save(B_val, 'data/B_valp' + str(p) + '.pt');\n",
    "torch.save(B_test, 'data/B_testp' + str(p) + '.pt');"
   ]
  },
  {
   "cell_type": "code",
   "execution_count": null,
   "metadata": {},
   "outputs": [],
   "source": []
  }
 ],
 "metadata": {
  "kernelspec": {
   "display_name": "Python 3",
   "language": "python",
   "name": "python3"
  },
  "language_info": {
   "codemirror_mode": {
    "name": "ipython",
    "version": 3
   },
   "file_extension": ".py",
   "mimetype": "text/x-python",
   "name": "python",
   "nbconvert_exporter": "python",
   "pygments_lexer": "ipython3",
   "version": "3.10.12"
  }
 },
 "nbformat": 4,
 "nbformat_minor": 2
}
